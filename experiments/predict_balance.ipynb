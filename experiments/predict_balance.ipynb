{
 "cells": [
  {
   "cell_type": "code",
   "execution_count": 129,
   "metadata": {
    "scrolled": true
   },
   "outputs": [],
   "source": [
    "import numpy as np\n",
    "import pandas as pd\n",
    "import os\n",
    "from sklearn.model_selection import train_test_split\n",
    "import matplotlib.pyplot as plt\n",
    "\n",
    "import tensorflow as tf"
   ]
  },
  {
   "cell_type": "markdown",
   "metadata": {},
   "source": [
    "## Read data"
   ]
  },
  {
   "cell_type": "code",
   "execution_count": 2,
   "metadata": {
    "scrolled": true
   },
   "outputs": [
    {
     "data": {
      "text/html": [
       "<div>\n",
       "<style scoped>\n",
       "    .dataframe tbody tr th:only-of-type {\n",
       "        vertical-align: middle;\n",
       "    }\n",
       "\n",
       "    .dataframe tbody tr th {\n",
       "        vertical-align: top;\n",
       "    }\n",
       "\n",
       "    .dataframe thead th {\n",
       "        text-align: right;\n",
       "    }\n",
       "</style>\n",
       "<table border=\"1\" class=\"dataframe\">\n",
       "  <thead>\n",
       "    <tr style=\"text-align: right;\">\n",
       "      <th></th>\n",
       "      <th>Unnamed: 0</th>\n",
       "      <th>idx</th>\n",
       "      <th>balancing</th>\n",
       "    </tr>\n",
       "  </thead>\n",
       "  <tbody>\n",
       "    <tr>\n",
       "      <th>0</th>\n",
       "      <td>0</td>\n",
       "      <td>0</td>\n",
       "      <td>1.50</td>\n",
       "    </tr>\n",
       "    <tr>\n",
       "      <th>1</th>\n",
       "      <td>1</td>\n",
       "      <td>1</td>\n",
       "      <td>2.00</td>\n",
       "    </tr>\n",
       "    <tr>\n",
       "      <th>2</th>\n",
       "      <td>2</td>\n",
       "      <td>2</td>\n",
       "      <td>1.25</td>\n",
       "    </tr>\n",
       "    <tr>\n",
       "      <th>3</th>\n",
       "      <td>3</td>\n",
       "      <td>3</td>\n",
       "      <td>2.00</td>\n",
       "    </tr>\n",
       "    <tr>\n",
       "      <th>4</th>\n",
       "      <td>4</td>\n",
       "      <td>4</td>\n",
       "      <td>2.00</td>\n",
       "    </tr>\n",
       "  </tbody>\n",
       "</table>\n",
       "</div>"
      ],
      "text/plain": [
       "   Unnamed: 0  idx  balancing\n",
       "0           0    0       1.50\n",
       "1           1    1       2.00\n",
       "2           2    2       1.25\n",
       "3           3    3       2.00\n",
       "4           4    4       2.00"
      ]
     },
     "execution_count": 2,
     "metadata": {},
     "output_type": "execute_result"
    }
   ],
   "source": [
    "data = pd.read_csv(\"data.csv\")\n",
    "data.head()"
   ]
  },
  {
   "cell_type": "code",
   "execution_count": 3,
   "metadata": {
    "scrolled": true
   },
   "outputs": [
    {
     "data": {
      "text/plain": [
       "<AxesSubplot:>"
      ]
     },
     "execution_count": 3,
     "metadata": {},
     "output_type": "execute_result"
    },
    {
     "data": {
      "image/png": "[encoded data removed]",
      "text/plain": [
       "<Figure size 432x288 with 1 Axes>"
      ]
     },
     "metadata": {
      "needs_background": "light"
     },
     "output_type": "display_data"
    }
   ],
   "source": [
    "data[\"balancing\"].hist()"
   ]
  },
  {
   "cell_type": "code",
   "execution_count": 4,
   "metadata": {
    "scrolled": true
   },
   "outputs": [
    {
     "data": {
      "text/plain": [
       "Unnamed: 0    39\n",
       "idx           39\n",
       "balancing     39\n",
       "dtype: int64"
      ]
     },
     "execution_count": 4,
     "metadata": {},
     "output_type": "execute_result"
    }
   ],
   "source": [
    "data[data[\"balancing\"] == 1.5].count()"
   ]
  },
  {
   "cell_type": "code",
   "execution_count": 5,
   "metadata": {
    "scrolled": true
   },
   "outputs": [],
   "source": [
    "data[\"balancing1\"] = data[\"balancing\"] - 1"
   ]
  },
  {
   "cell_type": "code",
   "execution_count": 54,
   "metadata": {
    "scrolled": true
   },
   "outputs": [],
   "source": [
    "path_maps = \"gen_maps\"\n",
    "SIZE = 8\n",
    "BORDER = 6\n",
    "X = []\n",
    "for folder in os.listdir(path_maps):\n",
    "    m = np.load(os.path.join(path_maps, folder, \"map.npy\"))\n",
    "    b = BORDER + 1\n",
    "    s = b+SIZE - 2\n",
    "    m = (m[b:s, b:s] -1)\n",
    "    m[m==8] = 2\n",
    "    m[m==6] = 5\n",
    "\n",
    "    X.append(tf.one_hot(m, 6))"
   ]
  },
  {
   "cell_type": "code",
   "execution_count": 31,
   "metadata": {
    "scrolled": true
   },
   "outputs": [
    {
     "data": {
      "text/plain": [
       "<tf.Tensor: shape=(6, 6, 6), dtype=float32, numpy=\n",
       "array([[[0., 1., 0., 0., 0., 0.],\n",
       "        [0., 1., 0., 0., 0., 0.],\n",
       "        [0., 0., 1., 0., 0., 0.],\n",
       "        [0., 0., 0., 0., 1., 0.],\n",
       "        [0., 0., 0., 0., 1., 0.],\n",
       "        [0., 0., 1., 0., 0., 0.]],\n",
       "\n",
       "       [[0., 0., 0., 0., 1., 0.],\n",
       "        [1., 0., 0., 0., 0., 0.],\n",
       "        [0., 0., 0., 1., 0., 0.],\n",
       "        [0., 1., 0., 0., 0., 0.],\n",
       "        [0., 0., 0., 0., 0., 1.],\n",
       "        [0., 1., 0., 0., 0., 0.]],\n",
       "\n",
       "       [[0., 0., 0., 0., 1., 0.],\n",
       "        [0., 1., 0., 0., 0., 0.],\n",
       "        [0., 0., 1., 0., 0., 0.],\n",
       "        [0., 1., 0., 0., 0., 0.],\n",
       "        [0., 0., 0., 0., 1., 0.],\n",
       "        [0., 0., 1., 0., 0., 0.]],\n",
       "\n",
       "       [[0., 1., 0., 0., 0., 0.],\n",
       "        [0., 0., 1., 0., 0., 0.],\n",
       "        [0., 1., 0., 0., 0., 0.],\n",
       "        [0., 0., 0., 1., 0., 0.],\n",
       "        [0., 0., 1., 0., 0., 0.],\n",
       "        [0., 1., 0., 0., 0., 0.]],\n",
       "\n",
       "       [[0., 0., 0., 1., 0., 0.],\n",
       "        [0., 1., 0., 0., 0., 0.],\n",
       "        [0., 1., 0., 0., 0., 0.],\n",
       "        [0., 1., 0., 0., 0., 0.],\n",
       "        [1., 0., 0., 0., 0., 0.],\n",
       "        [0., 1., 0., 0., 0., 0.]],\n",
       "\n",
       "       [[0., 1., 0., 0., 0., 0.],\n",
       "        [0., 0., 0., 0., 1., 0.],\n",
       "        [1., 0., 0., 0., 0., 0.],\n",
       "        [0., 0., 0., 0., 1., 0.],\n",
       "        [0., 0., 0., 0., 1., 0.],\n",
       "        [0., 1., 0., 0., 0., 0.]]], dtype=float32)>"
      ]
     },
     "execution_count": 31,
     "metadata": {},
     "output_type": "execute_result"
    }
   ],
   "source": [
    "X[15]"
   ]
  },
  {
   "cell_type": "code",
   "execution_count": 25,
   "metadata": {},
   "outputs": [
    {
     "data": {
      "text/plain": [
       "TensorShape([6, 6, 6])"
      ]
     },
     "execution_count": 25,
     "metadata": {},
     "output_type": "execute_result"
    }
   ],
   "source": [
    "tf.one_hot(X[15], 6).shape"
   ]
  },
  {
   "cell_type": "markdown",
   "metadata": {},
   "source": [
    "## Training"
   ]
  },
  {
   "cell_type": "code",
   "execution_count": 81,
   "metadata": {
    "scrolled": true
   },
   "outputs": [],
   "source": [
    "X_train, X_test, y_train, y_test = train_test_split(X, data[\"balancing1\"], test_size=0.2, shuffle=True)\n",
    "X_train = tf.convert_to_tensor(X_train)\n",
    "y_train = tf.convert_to_tensor(y_train)\n",
    "X_test = tf.convert_to_tensor(X_test)\n",
    "y_test = tf.convert_to_tensor(y_test)"
   ]
  },
  {
   "cell_type": "code",
   "execution_count": 79,
   "metadata": {},
   "outputs": [
    {
     "data": {
      "text/plain": [
       "240"
      ]
     },
     "execution_count": 79,
     "metadata": {},
     "output_type": "execute_result"
    }
   ],
   "source": [
    "len(y_train)"
   ]
  },
  {
   "cell_type": "code",
   "execution_count": 228,
   "metadata": {
    "scrolled": true
   },
   "outputs": [
    {
     "name": "stdout",
     "output_type": "stream",
     "text": [
      "Model: \"sequential_63\"\n",
      "_________________________________________________________________\n",
      " Layer (type)                Output Shape              Param #   \n",
      "=================================================================\n",
      " dense_160 (Dense)           (None, 6, 6, 16)          112       \n",
      "                                                                 \n",
      " dense_161 (Dense)           (None, 6, 6, 8)           136       \n",
      "                                                                 \n",
      " flatten_52 (Flatten)        (None, 288)               0         \n",
      "                                                                 \n",
      " dense_162 (Dense)           (None, 16)                4624      \n",
      "                                                                 \n",
      " dense_163 (Dense)           (None, 12)                204       \n",
      "                                                                 \n",
      " dense_164 (Dense)           (None, 8)                 104       \n",
      "                                                                 \n",
      " dense_165 (Dense)           (None, 1)                 9         \n",
      "                                                                 \n",
      "=================================================================\n",
      "Total params: 5,189\n",
      "Trainable params: 5,189\n",
      "Non-trainable params: 0\n",
      "_________________________________________________________________\n",
      "Epoch 1/20\n",
      "8/8 [==============================] - 1s 1ms/step - loss: 0.1383\n",
      "Epoch 2/20\n",
      "8/8 [==============================] - 0s 2ms/step - loss: 0.1346\n",
      "Epoch 3/20\n",
      "8/8 [==============================] - 0s 2ms/step - loss: 0.1322\n",
      "Epoch 4/20\n",
      "8/8 [==============================] - 0s 2ms/step - loss: 0.1316\n",
      "Epoch 5/20\n",
      "8/8 [==============================] - 0s 2ms/step - loss: 0.1312\n",
      "Epoch 6/20\n",
      "8/8 [==============================] - 0s 3ms/step - loss: 0.1301\n",
      "Epoch 7/20\n",
      "8/8 [==============================] - 0s 2ms/step - loss: 0.1308\n",
      "Epoch 8/20\n",
      "8/8 [==============================] - 0s 2ms/step - loss: 0.1283\n",
      "Epoch 9/20\n",
      "8/8 [==============================] - 0s 2ms/step - loss: 0.1271\n",
      "Epoch 10/20\n",
      "8/8 [==============================] - 0s 2ms/step - loss: 0.1261\n",
      "Epoch 11/20\n",
      "8/8 [==============================] - 0s 3ms/step - loss: 0.1237\n",
      "Epoch 12/20\n",
      "8/8 [==============================] - 0s 2ms/step - loss: 0.1221\n",
      "Epoch 13/20\n",
      "8/8 [==============================] - 0s 2ms/step - loss: 0.1190\n",
      "Epoch 14/20\n",
      "8/8 [==============================] - 0s 2ms/step - loss: 0.1165\n",
      "Epoch 15/20\n",
      "8/8 [==============================] - 0s 0s/step - loss: 0.1131\n",
      "Epoch 16/20\n",
      "8/8 [==============================] - 0s 741us/step - loss: 0.1110\n",
      "Epoch 17/20\n",
      "8/8 [==============================] - 0s 2ms/step - loss: 0.1084\n",
      "Epoch 18/20\n",
      "8/8 [==============================] - 0s 2ms/step - loss: 0.1050\n",
      "Epoch 19/20\n",
      "8/8 [==============================] - 0s 2ms/step - loss: 0.1015\n",
      "Epoch 20/20\n",
      "8/8 [==============================] - 0s 2ms/step - loss: 0.0982\n"
     ]
    },
    {
     "data": {
      "text/plain": [
       "<keras.callbacks.History at 0x168bd93dee0>"
      ]
     },
     "execution_count": 228,
     "metadata": {},
     "output_type": "execute_result"
    }
   ],
   "source": [
    "model = tf.keras.Sequential()\n",
    "\n",
    "model.add(tf.keras.layers.Input((6, 6, 6)))\n",
    "model.add(tf.keras.layers.Dense(16, activation='relu'))\n",
    "model.add(tf.keras.layers.Dense(8, activation='relu'))\n",
    "model.add(tf.keras.layers.Flatten())\n",
    "model.add(tf.keras.layers.Dense(16, activation='relu'))\n",
    "model.add(tf.keras.layers.Dense(12, activation='relu'))\n",
    "model.add(tf.keras.layers.Dense(8, activation='relu'))\n",
    "model.add(tf.keras.layers.Dense(1, activation=\"sigmoid\"))\n",
    "model.build()\n",
    "model.compile(loss=\"mse\", optimizer=\"adam\")\n",
    "model.summary()\n",
    "model.fit(x=X_train, y=y_train, epochs=20)"
   ]
  },
  {
   "cell_type": "code",
   "execution_count": 229,
   "metadata": {
    "scrolled": true
   },
   "outputs": [
    {
     "name": "stdout",
     "output_type": "stream",
     "text": [
      "Model: \"sequential_64\"\n",
      "_________________________________________________________________\n",
      " Layer (type)                Output Shape              Param #   \n",
      "=================================================================\n",
      " conv2d_63 (Conv2D)          (None, 6, 6, 32)          224       \n",
      "                                                                 \n",
      " max_pooling2d_50 (MaxPoolin  (None, 3, 3, 32)         0         \n",
      " g2D)                                                            \n",
      "                                                                 \n",
      " conv2d_64 (Conv2D)          (None, 3, 3, 16)          528       \n",
      "                                                                 \n",
      " max_pooling2d_51 (MaxPoolin  (None, 1, 1, 16)         0         \n",
      " g2D)                                                            \n",
      "                                                                 \n",
      " conv2d_65 (Conv2D)          (None, 1, 1, 8)           136       \n",
      "                                                                 \n",
      " flatten_53 (Flatten)        (None, 8)                 0         \n",
      "                                                                 \n",
      " dense_166 (Dense)           (None, 32)                288       \n",
      "                                                                 \n",
      " dense_167 (Dense)           (None, 8)                 264       \n",
      "                                                                 \n",
      " dense_168 (Dense)           (None, 1)                 9         \n",
      "                                                                 \n",
      "=================================================================\n",
      "Total params: 1,449\n",
      "Trainable params: 1,449\n",
      "Non-trainable params: 0\n",
      "_________________________________________________________________\n",
      "Epoch 1/30\n",
      "8/8 [==============================] - 1s 3ms/step - loss: 0.1480\n",
      "Epoch 2/30\n",
      "8/8 [==============================] - 0s 2ms/step - loss: 0.1412\n",
      "Epoch 3/30\n",
      "8/8 [==============================] - 0s 2ms/step - loss: 0.1389\n",
      "Epoch 4/30\n",
      "8/8 [==============================] - 0s 2ms/step - loss: 0.1384\n",
      "Epoch 5/30\n",
      "8/8 [==============================] - 0s 2ms/step - loss: 0.1380\n",
      "Epoch 6/30\n",
      "8/8 [==============================] - 0s 3ms/step - loss: 0.1379\n",
      "Epoch 7/30\n",
      "8/8 [==============================] - 0s 4ms/step - loss: 0.1376\n",
      "Epoch 8/30\n",
      "8/8 [==============================] - 0s 2ms/step - loss: 0.1374\n",
      "Epoch 9/30\n",
      "8/8 [==============================] - 0s 4ms/step - loss: 0.1370\n",
      "Epoch 10/30\n",
      "8/8 [==============================] - 0s 3ms/step - loss: 0.1367\n",
      "Epoch 11/30\n",
      "8/8 [==============================] - 0s 4ms/step - loss: 0.1364\n",
      "Epoch 12/30\n",
      "8/8 [==============================] - 0s 2ms/step - loss: 0.1361\n",
      "Epoch 13/30\n",
      "8/8 [==============================] - 0s 2ms/step - loss: 0.1356\n",
      "Epoch 14/30\n",
      "8/8 [==============================] - 0s 2ms/step - loss: 0.1350\n",
      "Epoch 15/30\n",
      "8/8 [==============================] - 0s 2ms/step - loss: 0.1346\n",
      "Epoch 16/30\n",
      "8/8 [==============================] - 0s 2ms/step - loss: 0.1341\n",
      "Epoch 17/30\n",
      "8/8 [==============================] - 0s 2ms/step - loss: 0.1338\n",
      "Epoch 18/30\n",
      "8/8 [==============================] - 0s 2ms/step - loss: 0.1335\n",
      "Epoch 19/30\n",
      "8/8 [==============================] - 0s 931us/step - loss: 0.1333\n",
      "Epoch 20/30\n",
      "8/8 [==============================] - 0s 2ms/step - loss: 0.1331\n",
      "Epoch 21/30\n",
      "8/8 [==============================] - 0s 2ms/step - loss: 0.1329\n",
      "Epoch 22/30\n",
      "8/8 [==============================] - 0s 2ms/step - loss: 0.1328\n",
      "Epoch 23/30\n",
      "8/8 [==============================] - 0s 2ms/step - loss: 0.1328\n",
      "Epoch 24/30\n",
      "8/8 [==============================] - 0s 2ms/step - loss: 0.1327\n",
      "Epoch 25/30\n",
      "8/8 [==============================] - 0s 2ms/step - loss: 0.1327\n",
      "Epoch 26/30\n",
      "8/8 [==============================] - 0s 2ms/step - loss: 0.1326\n",
      "Epoch 27/30\n",
      "8/8 [==============================] - 0s 2ms/step - loss: 0.1326\n",
      "Epoch 28/30\n",
      "8/8 [==============================] - 0s 3ms/step - loss: 0.1324\n",
      "Epoch 29/30\n",
      "8/8 [==============================] - 0s 4ms/step - loss: 0.1323\n",
      "Epoch 30/30\n",
      "8/8 [==============================] - 0s 2ms/step - loss: 0.1323\n"
     ]
    },
    {
     "data": {
      "text/plain": [
       "<keras.callbacks.History at 0x168beb3daf0>"
      ]
     },
     "execution_count": 229,
     "metadata": {},
     "output_type": "execute_result"
    }
   ],
   "source": [
    "model = tf.keras.Sequential()\n",
    "model.add(tf.keras.layers.Input((6, 6, 6)))\n",
    "model.add(tf.keras.layers.Conv2D(32, (1, 1), activation='relu'))\n",
    "model.add(tf.keras.layers.MaxPooling2D((2,2)))\n",
    "model.add(tf.keras.layers.Conv2D(16, (1, 1), activation='relu'))\n",
    "model.add(tf.keras.layers.MaxPooling2D((2, 2)))\n",
    "model.add(tf.keras.layers.Conv2D(8, (1, 1), activation='relu'))\n",
    "model.add(tf.keras.layers.Flatten())\n",
    "#model.add(tf.keras.layers.Dense(32, activation='relu'))\n",
    "#model.add(tf.keras.layers.Dense(16, activation='relu'))\n",
    "#model.add(tf.keras.layers.Dense(64, activation=\"relu\"))\n",
    "model.add(tf.keras.layers.Dense(32, activation=\"relu\"))\n",
    "model.add(tf.keras.layers.Dense(8, activation=\"relu\"))\n",
    "model.add(tf.keras.layers.Dense(1, activation=\"sigmoid\"))\n",
    "model.build()\n",
    "model.compile(loss=\"mse\", optimizer=\"adam\")\n",
    "model.summary()\n",
    "model.fit(x=X_train, y=y_train, epochs=30)"
   ]
  },
  {
   "cell_type": "code",
   "execution_count": 230,
   "metadata": {
    "scrolled": true
   },
   "outputs": [
    {
     "name": "stdout",
     "output_type": "stream",
     "text": [
      "2/2 [==============================] - 0s 15ms/step - loss: 0.1268\n"
     ]
    },
    {
     "data": {
      "text/plain": [
       "0.12676651775836945"
      ]
     },
     "execution_count": 230,
     "metadata": {},
     "output_type": "execute_result"
    }
   ],
   "source": [
    "model.evaluate(X_test, y_test)"
   ]
  },
  {
   "cell_type": "code",
   "execution_count": 231,
   "metadata": {
    "scrolled": true
   },
   "outputs": [
    {
     "name": "stdout",
     "output_type": "stream",
     "text": [
      "2/2 [==============================] - 0s 0s/step\n"
     ]
    },
    {
     "data": {
      "text/plain": [
       "<AxesSubplot:ylabel='Frequency'>"
      ]
     },
     "execution_count": 231,
     "metadata": {},
     "output_type": "execute_result"
    },
    {
     "data": {
      "image/png": "[encoded data removed]",
      "text/plain": [
       "<Figure size 432x288 with 1 Axes>"
      ]
     },
     "metadata": {
      "needs_background": "light"
     },
     "output_type": "display_data"
    }
   ],
   "source": [
    "# plot hist for MLP eval\n",
    "pd.DataFrame(abs(model.predict(X_test) - y_test)[0]).plot.hist(bins=20)"
   ]
  },
  {
   "cell_type": "code",
   "execution_count": 214,
   "metadata": {},
   "outputs": [
    {
     "name": "stdout",
     "output_type": "stream",
     "text": [
      "2/2 [==============================] - 0s 0s/step\n",
      "Pred 0.45109838\n",
      "True 1.0\n"
     ]
    }
   ],
   "source": [
    "i = 12\n",
    "print(\"Pred\", model.predict(X_test)[i][0])\n",
    "print(\"True\", y_test[i].numpy())"
   ]
  },
  {
   "cell_type": "code",
   "execution_count": 219,
   "metadata": {
    "scrolled": false
   },
   "outputs": [
    {
     "name": "stdout",
     "output_type": "stream",
     "text": [
      "2/2 [==============================] - 0s 0s/step - loss: 0.1295\n",
      "eval 0.12951739132404327\n",
      "2/2 [==============================] - 0s 16ms/step\n"
     ]
    },
    {
     "data": {
      "text/plain": [
       "(array([2., 7., 8., 4., 4., 1., 1., 0., 2., 3., 2., 1., 2., 3., 4., 1., 0.,\n",
       "        3., 6., 6.]),\n",
       " array([3.12888622e-04, 3.08208111e-02, 6.13287336e-02, 9.18366560e-02,\n",
       "        1.22344579e-01, 1.52852501e-01, 1.83360423e-01, 2.13868346e-01,\n",
       "        2.44376268e-01, 2.74884191e-01, 3.05392113e-01, 3.35900036e-01,\n",
       "        3.66407958e-01, 3.96915881e-01, 4.27423803e-01, 4.57931726e-01,\n",
       "        4.88439648e-01, 5.18947571e-01, 5.49455493e-01, 5.79963416e-01,\n",
       "        6.10471338e-01]),\n",
       " <BarContainer object of 20 artists>)"
      ]
     },
     "execution_count": 219,
     "metadata": {},
     "output_type": "execute_result"
    },
    {
     "data": {
      "image/png": "[encoded data removed]",
      "text/plain": [
       "<Figure size 432x288 with 1 Axes>"
      ]
     },
     "metadata": {
      "needs_background": "light"
     },
     "output_type": "display_data"
    }
   ],
   "source": [
    "print(\"eval\", model.evaluate(X_test, y_test))\n",
    "pred = model.predict(X_test)\n",
    "diffs = [abs(p-t).numpy()[0] for p, t in zip(pred, y_test)]\n",
    "plt.hist(diffs, bins=20)"
   ]
  }
 ],
 "metadata": {
  "kernelspec": {
   "display_name": "Python 3 (ipykernel)",
   "language": "python",
   "name": "python3"
  },
  "language_info": {
   "codemirror_mode": {
    "name": "ipython",
    "version": 3
   },
   "file_extension": ".py",
   "mimetype": "text/x-python",
   "name": "python",
   "nbconvert_exporter": "python",
   "pygments_lexer": "ipython3",
   "version": "3.9.4"
  }
 },
 "nbformat": 4,
 "nbformat_minor": 1
}
