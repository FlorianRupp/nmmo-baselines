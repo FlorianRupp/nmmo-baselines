{
 "cells": [
  {
   "cell_type": "code",
   "execution_count": 7,
   "metadata": {
    "scrolled": true
   },
   "outputs": [],
   "source": [
    "import numpy as np\n",
    "import pandas as pd\n",
    "import os\n",
    "from sklearn.model_selection import train_test_split\n",
    "import matplotlib.pyplot as plt\n",
    "import wandb\n",
    "from wandb.keras import WandbCallback\n",
    "\n",
    "import tensorflow as tf"
   ]
  },
  {
   "cell_type": "code",
   "execution_count": 3,
   "metadata": {},
   "outputs": [
    {
     "name": "stderr",
     "output_type": "stream",
     "text": [
      "wandb: Currently logged in as: florian-rupp (zwiebel). Use `wandb login --relogin` to force relogin\n"
     ]
    },
    {
     "data": {
      "text/html": [
       "Tracking run with wandb version 0.13.9"
      ],
      "text/plain": [
       "<IPython.core.display.HTML object>"
      ]
     },
     "metadata": {},
     "output_type": "display_data"
    },
    {
     "data": {
      "text/html": [
       "Run data is saved locally in <code>C:\\Users\\flori\\Documents\\Coding\\nmmo-baselines\\experiments\\wandb\\run-20230127_102651-bct09olg</code>"
      ],
      "text/plain": [
       "<IPython.core.display.HTML object>"
      ]
     },
     "metadata": {},
     "output_type": "display_data"
    },
    {
     "data": {
      "text/html": [
       "Syncing run <strong><a href=\"https://wandb.ai/zwiebel/predict%20balance/runs/bct09olg\" target=\"_blank\">glowing-mandu-1</a></strong> to <a href=\"https://wandb.ai/zwiebel/predict%20balance\" target=\"_blank\">Weights & Biases</a> (<a href=\"https://wandb.me/run\" target=\"_blank\">docs</a>)<br/>"
      ],
      "text/plain": [
       "<IPython.core.display.HTML object>"
      ]
     },
     "metadata": {},
     "output_type": "display_data"
    },
    {
     "data": {
      "text/html": [
       " View project at <a href=\"https://wandb.ai/zwiebel/predict%20balance\" target=\"_blank\">https://wandb.ai/zwiebel/predict%20balance</a>"
      ],
      "text/plain": [
       "<IPython.core.display.HTML object>"
      ]
     },
     "metadata": {},
     "output_type": "display_data"
    },
    {
     "data": {
      "text/html": [
       " View run at <a href=\"https://wandb.ai/zwiebel/predict%20balance/runs/bct09olg\" target=\"_blank\">https://wandb.ai/zwiebel/predict%20balance/runs/bct09olg</a>"
      ],
      "text/plain": [
       "<IPython.core.display.HTML object>"
      ]
     },
     "metadata": {},
     "output_type": "display_data"
    },
    {
     "data": {
      "text/html": [
       "<button onClick=\"this.nextSibling.style.display='block';this.style.display='none';\">Display W&B run</button><iframe src=\"https://wandb.ai/zwiebel/predict%20balance/runs/bct09olg?jupyter=true\" style=\"border:none;width:100%;height:420px;display:none;\"></iframe>"
      ],
      "text/plain": [
       "<wandb.sdk.wandb_run.Run at 0x2bf1ab7ef50>"
      ]
     },
     "execution_count": 3,
     "metadata": {},
     "output_type": "execute_result"
    }
   ],
   "source": [
    "wandb.init(project=\"predict balance\", entity=\"zwiebel\")"
   ]
  },
  {
   "cell_type": "code",
   "execution_count": 9,
   "metadata": {},
   "outputs": [],
   "source": [
    "wandb.config = {\n",
    "  \"learning_rate\": 0.001,\n",
    "  \"epochs\": 20,\n",
    "  \"batch_size\": 1\n",
    "}"
   ]
  },
  {
   "cell_type": "markdown",
   "metadata": {},
   "source": [
    "## Read data"
   ]
  },
  {
   "cell_type": "code",
   "execution_count": 10,
   "metadata": {
    "scrolled": true
   },
   "outputs": [
    {
     "data": {
      "text/plain": [
       "(3000, 3)"
      ]
     },
     "execution_count": 10,
     "metadata": {},
     "output_type": "execute_result"
    }
   ],
   "source": [
    "data = pd.read_csv(\"data.csv\")\n",
    "data.head()\n",
    "data.shape"
   ]
  },
  {
   "cell_type": "code",
   "execution_count": 11,
   "metadata": {
    "scrolled": true
   },
   "outputs": [
    {
     "data": {
      "text/plain": [
       "<AxesSubplot:>"
      ]
     },
     "execution_count": 11,
     "metadata": {},
     "output_type": "execute_result"
    },
    {
     "data": {
      "image/png": "[encoded data removed]",
      "text/plain": [
       "<Figure size 432x288 with 1 Axes>"
      ]
     },
     "metadata": {
      "needs_background": "light"
     },
     "output_type": "display_data"
    }
   ],
   "source": [
    "data[\"balancing\"].hist()"
   ]
  },
  {
   "cell_type": "code",
   "execution_count": 12,
   "metadata": {
    "scrolled": true
   },
   "outputs": [
    {
     "data": {
      "text/plain": [
       "Unnamed: 0    340\n",
       "idx           340\n",
       "balancing     340\n",
       "dtype: int64"
      ]
     },
     "execution_count": 12,
     "metadata": {},
     "output_type": "execute_result"
    }
   ],
   "source": [
    "data[data[\"balancing\"] == 1.5].count()"
   ]
  },
  {
   "cell_type": "code",
   "execution_count": 14,
   "metadata": {
    "scrolled": true
   },
   "outputs": [],
   "source": [
    "data[\"balancing1\"] = data[\"balancing\"] - 1"
   ]
  },
  {
   "cell_type": "code",
   "execution_count": 15,
   "metadata": {
    "scrolled": true
   },
   "outputs": [],
   "source": [
    "path_maps = \"gen_maps\"\n",
    "SIZE = 8\n",
    "BORDER = 6\n",
    "X = []\n",
    "for folder in os.listdir(path_maps):\n",
    "    m = np.load(os.path.join(path_maps, folder, \"map.npy\"))\n",
    "    b = BORDER + 1\n",
    "    s = b+SIZE - 2\n",
    "    m = (m[b:s, b:s] -1)\n",
    "    m[m==8] = 2\n",
    "    m[m==6] = 5\n",
    "\n",
    "    X.append(tf.one_hot(m, 6))"
   ]
  },
  {
   "cell_type": "code",
   "execution_count": 16,
   "metadata": {
    "scrolled": true
   },
   "outputs": [
    {
     "data": {
      "text/plain": [
       "<tf.Tensor: shape=(6, 6, 6), dtype=float32, numpy=\n",
       "array([[[0., 1., 0., 0., 0., 0.],\n",
       "        [0., 0., 0., 0., 1., 0.],\n",
       "        [0., 0., 0., 0., 1., 0.],\n",
       "        [0., 1., 0., 0., 0., 0.],\n",
       "        [0., 1., 0., 0., 0., 0.],\n",
       "        [0., 0., 1., 0., 0., 0.]],\n",
       "\n",
       "       [[0., 1., 0., 0., 0., 0.],\n",
       "        [0., 0., 0., 1., 0., 0.],\n",
       "        [0., 1., 0., 0., 0., 0.],\n",
       "        [0., 0., 0., 1., 0., 0.],\n",
       "        [1., 0., 0., 0., 0., 0.],\n",
       "        [0., 0., 1., 0., 0., 0.]],\n",
       "\n",
       "       [[0., 0., 0., 0., 1., 0.],\n",
       "        [0., 1., 0., 0., 0., 0.],\n",
       "        [0., 1., 0., 0., 0., 0.],\n",
       "        [0., 0., 0., 1., 0., 0.],\n",
       "        [0., 0., 0., 0., 1., 0.],\n",
       "        [0., 0., 1., 0., 0., 0.]],\n",
       "\n",
       "       [[0., 0., 1., 0., 0., 0.],\n",
       "        [0., 1., 0., 0., 0., 0.],\n",
       "        [0., 0., 0., 0., 1., 0.],\n",
       "        [0., 0., 0., 0., 1., 0.],\n",
       "        [0., 1., 0., 0., 0., 0.],\n",
       "        [0., 1., 0., 0., 0., 0.]],\n",
       "\n",
       "       [[0., 1., 0., 0., 0., 0.],\n",
       "        [0., 1., 0., 0., 0., 0.],\n",
       "        [0., 1., 0., 0., 0., 0.],\n",
       "        [0., 0., 0., 0., 1., 0.],\n",
       "        [1., 0., 0., 0., 0., 0.],\n",
       "        [0., 1., 0., 0., 0., 0.]],\n",
       "\n",
       "       [[0., 0., 1., 0., 0., 0.],\n",
       "        [0., 1., 0., 0., 0., 0.],\n",
       "        [0., 1., 0., 0., 0., 0.],\n",
       "        [0., 1., 0., 0., 0., 0.],\n",
       "        [0., 1., 0., 0., 0., 0.],\n",
       "        [0., 1., 0., 0., 0., 0.]]], dtype=float32)>"
      ]
     },
     "execution_count": 16,
     "metadata": {},
     "output_type": "execute_result"
    }
   ],
   "source": [
    "X[15]"
   ]
  },
  {
   "cell_type": "code",
   "execution_count": 18,
   "metadata": {},
   "outputs": [],
   "source": [
    "#tf.one_hot(X[15], 6).shape"
   ]
  },
  {
   "cell_type": "markdown",
   "metadata": {},
   "source": [
    "## Training"
   ]
  },
  {
   "cell_type": "code",
   "execution_count": 19,
   "metadata": {
    "scrolled": true
   },
   "outputs": [],
   "source": [
    "X_train, X_test, y_train, y_test = train_test_split(X, data[\"balancing1\"], test_size=0.2, shuffle=True)\n",
    "X_train = tf.convert_to_tensor(X_train)\n",
    "y_train = tf.convert_to_tensor(y_train)\n",
    "X_test = tf.convert_to_tensor(X_test)\n",
    "y_test = tf.convert_to_tensor(y_test)"
   ]
  },
  {
   "cell_type": "code",
   "execution_count": 20,
   "metadata": {},
   "outputs": [
    {
     "data": {
      "text/plain": [
       "2400"
      ]
     },
     "execution_count": 20,
     "metadata": {},
     "output_type": "execute_result"
    }
   ],
   "source": [
    "len(y_train)"
   ]
  },
  {
   "cell_type": "code",
   "execution_count": 21,
   "metadata": {
    "scrolled": true
   },
   "outputs": [
    {
     "name": "stdout",
     "output_type": "stream",
     "text": [
      "Model: \"sequential_2\"\n",
      "_________________________________________________________________\n",
      " Layer (type)                Output Shape              Param #   \n",
      "=================================================================\n",
      " dense_12 (Dense)            (None, 6, 6, 16)          112       \n",
      "                                                                 \n",
      " dense_13 (Dense)            (None, 6, 6, 8)           136       \n",
      "                                                                 \n",
      " flatten_2 (Flatten)         (None, 288)               0         \n",
      "                                                                 \n",
      " dense_14 (Dense)            (None, 16)                4624      \n",
      "                                                                 \n",
      " dense_15 (Dense)            (None, 12)                204       \n",
      "                                                                 \n",
      " dense_16 (Dense)            (None, 8)                 104       \n",
      "                                                                 \n",
      " dense_17 (Dense)            (None, 1)                 9         \n",
      "                                                                 \n",
      "=================================================================\n",
      "Total params: 5,189\n",
      "Trainable params: 5,189\n",
      "Non-trainable params: 0\n",
      "_________________________________________________________________\n"
     ]
    },
    {
     "name": "stderr",
     "output_type": "stream",
     "text": [
      "wandb: WARNING The save_model argument by default saves the model in the HDF5 format that cannot save custom objects like subclassed models and custom layers. This behavior will be deprecated in a future release in favor of the SavedModel format. Meanwhile, the HDF5 model is saved as W&B files and the SavedModel as W&B Artifacts.\n"
     ]
    },
    {
     "name": "stdout",
     "output_type": "stream",
     "text": [
      "Epoch 1/20\n",
      "75/75 [==============================] - 0s 1ms/step - loss: 0.1363\n",
      "Epoch 2/20\n",
      "75/75 [==============================] - 0s 986us/step - loss: 0.1348\n",
      "Epoch 3/20\n",
      "75/75 [==============================] - 0s 964us/step - loss: 0.1345\n",
      "Epoch 4/20\n",
      "75/75 [==============================] - 0s 933us/step - loss: 0.1339\n",
      "Epoch 5/20\n",
      "75/75 [==============================] - 0s 964us/step - loss: 0.1328\n",
      "Epoch 6/20\n",
      "75/75 [==============================] - 0s 956us/step - loss: 0.1316\n",
      "Epoch 7/20\n",
      "75/75 [==============================] - 0s 964us/step - loss: 0.1287\n",
      "Epoch 8/20\n",
      "75/75 [==============================] - 0s 839us/step - loss: 0.1253\n",
      "Epoch 9/20\n",
      "75/75 [==============================] - 0s 838us/step - loss: 0.1220\n",
      "Epoch 10/20\n",
      "75/75 [==============================] - 0s 945us/step - loss: 0.1164\n",
      "Epoch 11/20\n",
      "75/75 [==============================] - 0s 878us/step - loss: 0.1098\n",
      "Epoch 12/20\n",
      "75/75 [==============================] - 0s 851us/step - loss: 0.1038\n",
      "Epoch 13/20\n",
      "75/75 [==============================] - 0s 848us/step - loss: 0.0967\n",
      "Epoch 14/20\n",
      "75/75 [==============================] - 0s 835us/step - loss: 0.0882\n",
      "Epoch 15/20\n",
      "75/75 [==============================] - 0s 893us/step - loss: 0.0815\n",
      "Epoch 16/20\n",
      "75/75 [==============================] - 0s 868us/step - loss: 0.0749\n",
      "Epoch 17/20\n",
      "75/75 [==============================] - 0s 869us/step - loss: 0.0708\n",
      "Epoch 18/20\n",
      "75/75 [==============================] - 0s 867us/step - loss: 0.0670\n",
      "Epoch 19/20\n",
      "75/75 [==============================] - 0s 867us/step - loss: 0.0634\n",
      "Epoch 20/20\n",
      "75/75 [==============================] - 0s 854us/step - loss: 0.0601\n"
     ]
    },
    {
     "data": {
      "text/plain": [
       "<keras.callbacks.History at 0x2bf25bea260>"
      ]
     },
     "execution_count": 21,
     "metadata": {},
     "output_type": "execute_result"
    }
   ],
   "source": [
    "model = tf.keras.Sequential()\n",
    "\n",
    "model.add(tf.keras.layers.Input((6, 6, 6)))\n",
    "model.add(tf.keras.layers.Dense(16, activation='relu'))\n",
    "model.add(tf.keras.layers.Dense(8, activation='relu'))\n",
    "model.add(tf.keras.layers.Flatten())\n",
    "model.add(tf.keras.layers.Dense(16, activation='relu'))\n",
    "model.add(tf.keras.layers.Dense(12, activation='relu'))\n",
    "model.add(tf.keras.layers.Dense(8, activation='relu'))\n",
    "model.add(tf.keras.layers.Dense(1, activation=\"sigmoid\"))\n",
    "model.build()\n",
    "model.compile(loss=\"mse\", optimizer=\"adam\")\n",
    "model.summary()\n",
    "model.fit(x=X_train, y=y_train, epochs=20, callbacks=[WandbCallback()])"
   ]
  },
  {
   "cell_type": "code",
   "execution_count": 14,
   "metadata": {
    "scrolled": true
   },
   "outputs": [
    {
     "name": "stdout",
     "output_type": "stream",
     "text": [
      "Model: \"sequential_1\"\n",
      "_________________________________________________________________\n",
      " Layer (type)                Output Shape              Param #   \n",
      "=================================================================\n",
      " conv2d (Conv2D)             (None, 6, 6, 32)          224       \n",
      "                                                                 \n",
      " max_pooling2d (MaxPooling2D  (None, 3, 3, 32)         0         \n",
      " )                                                               \n",
      "                                                                 \n",
      " conv2d_1 (Conv2D)           (None, 3, 3, 16)          528       \n",
      "                                                                 \n",
      " max_pooling2d_1 (MaxPooling  (None, 1, 1, 16)         0         \n",
      " 2D)                                                             \n",
      "                                                                 \n",
      " conv2d_2 (Conv2D)           (None, 1, 1, 8)           136       \n",
      "                                                                 \n",
      " flatten_1 (Flatten)         (None, 8)                 0         \n",
      "                                                                 \n",
      " dense_6 (Dense)             (None, 32)                288       \n",
      "                                                                 \n",
      " dense_7 (Dense)             (None, 8)                 264       \n",
      "                                                                 \n",
      " dense_8 (Dense)             (None, 1)                 9         \n",
      "                                                                 \n",
      "=================================================================\n",
      "Total params: 1,449\n",
      "Trainable params: 1,449\n",
      "Non-trainable params: 0\n",
      "_________________________________________________________________\n",
      "Epoch 1/30\n",
      "75/75 [==============================] - 0s 1ms/step - loss: 0.1347\n",
      "Epoch 2/30\n",
      "75/75 [==============================] - 0s 1ms/step - loss: 0.1344\n",
      "Epoch 3/30\n",
      "75/75 [==============================] - 0s 1ms/step - loss: 0.1344\n",
      "Epoch 4/30\n",
      "75/75 [==============================] - 0s 1ms/step - loss: 0.1344\n",
      "Epoch 5/30\n",
      "75/75 [==============================] - 0s 1ms/step - loss: 0.1344\n",
      "Epoch 6/30\n",
      "75/75 [==============================] - 0s 1ms/step - loss: 0.1344\n",
      "Epoch 7/30\n",
      "75/75 [==============================] - 0s 1ms/step - loss: 0.1344\n",
      "Epoch 8/30\n",
      "75/75 [==============================] - 0s 1ms/step - loss: 0.1344\n",
      "Epoch 9/30\n",
      "75/75 [==============================] - 0s 1ms/step - loss: 0.1343\n",
      "Epoch 10/30\n",
      "75/75 [==============================] - 0s 1ms/step - loss: 0.1343\n",
      "Epoch 11/30\n",
      "75/75 [==============================] - 0s 1ms/step - loss: 0.1342\n",
      "Epoch 12/30\n",
      "75/75 [==============================] - 0s 1ms/step - loss: 0.1342\n",
      "Epoch 13/30\n",
      "75/75 [==============================] - 0s 1ms/step - loss: 0.1343\n",
      "Epoch 14/30\n",
      "75/75 [==============================] - 0s 1ms/step - loss: 0.1342\n",
      "Epoch 15/30\n",
      "75/75 [==============================] - 0s 1ms/step - loss: 0.1342\n",
      "Epoch 16/30\n",
      "75/75 [==============================] - 0s 1ms/step - loss: 0.1346\n",
      "Epoch 17/30\n",
      "75/75 [==============================] - 0s 1ms/step - loss: 0.1343\n",
      "Epoch 18/30\n",
      "75/75 [==============================] - 0s 1ms/step - loss: 0.1342\n",
      "Epoch 19/30\n",
      "75/75 [==============================] - 0s 1ms/step - loss: 0.1341\n",
      "Epoch 20/30\n",
      "75/75 [==============================] - 0s 1ms/step - loss: 0.1340\n",
      "Epoch 21/30\n",
      "75/75 [==============================] - 0s 1ms/step - loss: 0.1340\n",
      "Epoch 22/30\n",
      "75/75 [==============================] - 0s 1ms/step - loss: 0.1339\n",
      "Epoch 23/30\n",
      "75/75 [==============================] - 0s 1ms/step - loss: 0.1342\n",
      "Epoch 24/30\n",
      "75/75 [==============================] - 0s 1ms/step - loss: 0.1340\n",
      "Epoch 25/30\n",
      "75/75 [==============================] - 0s 1ms/step - loss: 0.1339\n",
      "Epoch 26/30\n",
      "75/75 [==============================] - 0s 1ms/step - loss: 0.1337\n",
      "Epoch 27/30\n",
      "75/75 [==============================] - 0s 1ms/step - loss: 0.1337\n",
      "Epoch 28/30\n",
      "75/75 [==============================] - 0s 1ms/step - loss: 0.1336\n",
      "Epoch 29/30\n",
      "75/75 [==============================] - 0s 1ms/step - loss: 0.1335\n",
      "Epoch 30/30\n",
      "75/75 [==============================] - 0s 1ms/step - loss: 0.1336\n"
     ]
    },
    {
     "data": {
      "text/plain": [
       "<keras.callbacks.History at 0x2d3c57a6fb0>"
      ]
     },
     "execution_count": 14,
     "metadata": {},
     "output_type": "execute_result"
    }
   ],
   "source": [
    "model = tf.keras.Sequential()\n",
    "model.add(tf.keras.layers.Input((6, 6, 6)))\n",
    "model.add(tf.keras.layers.Conv2D(32, (1, 1), activation='relu'))\n",
    "model.add(tf.keras.layers.MaxPooling2D((2,2)))\n",
    "model.add(tf.keras.layers.Conv2D(16, (1, 1), activation='relu'))\n",
    "model.add(tf.keras.layers.MaxPooling2D((2, 2)))\n",
    "model.add(tf.keras.layers.Conv2D(8, (1, 1), activation='relu'))\n",
    "model.add(tf.keras.layers.Flatten())\n",
    "#model.add(tf.keras.layers.Dense(32, activation='relu'))\n",
    "#model.add(tf.keras.layers.Dense(16, activation='relu'))\n",
    "#model.add(tf.keras.layers.Dense(64, activation=\"relu\"))\n",
    "model.add(tf.keras.layers.Dense(32, activation=\"relu\"))\n",
    "model.add(tf.keras.layers.Dense(8, activation=\"relu\"))\n",
    "model.add(tf.keras.layers.Dense(1, activation=\"sigmoid\"))\n",
    "model.build()\n",
    "model.compile(loss=\"mse\", optimizer=\"adam\")\n",
    "model.summary()\n",
    "model.fit(x=X_train, y=y_train, epochs=30)"
   ]
  },
  {
   "cell_type": "code",
   "execution_count": 16,
   "metadata": {
    "scrolled": true
   },
   "outputs": [
    {
     "name": "stdout",
     "output_type": "stream",
     "text": [
      "19/19 [==============================] - 0s 778us/step - loss: 0.1371\n"
     ]
    },
    {
     "data": {
      "text/plain": [
       "0.13711075484752655"
      ]
     },
     "execution_count": 16,
     "metadata": {},
     "output_type": "execute_result"
    }
   ],
   "source": [
    "model.evaluate(X_test, y_test)"
   ]
  },
  {
   "cell_type": "code",
   "execution_count": 15,
   "metadata": {
    "scrolled": true
   },
   "outputs": [
    {
     "name": "stdout",
     "output_type": "stream",
     "text": [
      "19/19 [==============================] - 0s 778us/step\n"
     ]
    },
    {
     "data": {
      "text/plain": [
       "<AxesSubplot:ylabel='Frequency'>"
      ]
     },
     "execution_count": 15,
     "metadata": {},
     "output_type": "execute_result"
    },
    {
     "data": {
      "image/png": "[encoded data removed]",
      "text/plain": [
       "<Figure size 432x288 with 1 Axes>"
      ]
     },
     "metadata": {
      "needs_background": "light"
     },
     "output_type": "display_data"
    }
   ],
   "source": [
    "# plot hist for MLP eval\n",
    "pd.DataFrame(abs(model.predict(X_test) - y_test)[0]).plot.hist(bins=20)"
   ]
  },
  {
   "cell_type": "code",
   "execution_count": 214,
   "metadata": {},
   "outputs": [
    {
     "name": "stdout",
     "output_type": "stream",
     "text": [
      "2/2 [==============================] - 0s 0s/step\n",
      "Pred 0.45109838\n",
      "True 1.0\n"
     ]
    }
   ],
   "source": [
    "i = 12\n",
    "print(\"Pred\", model.predict(X_test)[i][0])\n",
    "print(\"True\", y_test[i].numpy())"
   ]
  },
  {
   "cell_type": "code",
   "execution_count": 17,
   "metadata": {
    "scrolled": false
   },
   "outputs": [
    {
     "name": "stdout",
     "output_type": "stream",
     "text": [
      "19/19 [==============================] - 0s 984us/step - loss: 0.1371\n",
      "eval 0.13711075484752655\n",
      "19/19 [==============================] - 0s 778us/step\n"
     ]
    },
    {
     "data": {
      "text/plain": [
       "(array([ 73.,  43.,  32.,  18.,  22.,  12.,  24.,  12.,  14.,  12.,  12.,\n",
       "         16.,   4.,  11.,  16.,  33., 114., 117.,  12.,   3.]),\n",
       " array([0.00388944, 0.03333652, 0.06278361, 0.09223069, 0.12167777,\n",
       "        0.15112486, 0.18057194, 0.21001902, 0.23946611, 0.26891319,\n",
       "        0.29836027, 0.32780736, 0.35725444, 0.38670152, 0.41614861,\n",
       "        0.44559569, 0.47504277, 0.50448986, 0.53393694, 0.56338402,\n",
       "        0.5928311 ]),\n",
       " <BarContainer object of 20 artists>)"
      ]
     },
     "execution_count": 17,
     "metadata": {},
     "output_type": "execute_result"
    },
    {
     "data": {
      "image/png": "[encoded data removed]",
      "text/plain": [
       "<Figure size 432x288 with 1 Axes>"
      ]
     },
     "metadata": {
      "needs_background": "light"
     },
     "output_type": "display_data"
    }
   ],
   "source": [
    "print(\"eval\", model.evaluate(X_test, y_test))\n",
    "pred = model.predict(X_test)\n",
    "diffs = [abs(p-t).numpy()[0] for p, t in zip(pred, y_test)]\n",
    "plt.hist(diffs, bins=20)"
   ]
  }
 ],
 "metadata": {
  "kernelspec": {
   "display_name": "Python 3 (ipykernel)",
   "language": "python",
   "name": "python3"
  },
  "language_info": {
   "codemirror_mode": {
    "name": "ipython",
    "version": 3
   },
   "file_extension": ".py",
   "mimetype": "text/x-python",
   "name": "python",
   "nbconvert_exporter": "python",
   "pygments_lexer": "ipython3",
   "version": "3.10.6"
  }
 },
 "nbformat": 4,
 "nbformat_minor": 1
}
